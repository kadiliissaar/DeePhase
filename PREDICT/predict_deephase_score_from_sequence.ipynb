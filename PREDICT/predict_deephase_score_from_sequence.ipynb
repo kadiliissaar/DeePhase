{
 "cells": [
  {
   "cell_type": "code",
   "execution_count": 1,
   "id": "creative-regulation",
   "metadata": {},
   "outputs": [],
   "source": [
    "#ENTER YOUR SEQUENCE HERE:\n",
    "test_seq1_FUS = 'MASNDYTQQATQSYGAYPTQPGQGYSQQSSQPYGQQSYSGYSQSTDTSGYGQSSYSSYGQSQNTGYGTQSTPQGYGSTGGYGSSQSSQSSYGQQSSYPGYGQQPAPSSTSGSYGSSSQSSSYGQPQSGSYSQQPSYGGQQQSYGQQQSYNPPQGYGQQNQYNSSSGGGGGGGGGGNYGQDQSSMSSGGGSGGGYGNQDQSGGGGSGGYGQQDRGGRGRGGSGGGGGGGGGGYNRSSGGYEPRGRGGGRGGRGGMGGSDRGGFNKFGGPRDQGSRHDSEQDNSDNNTIFVQGLGENVTIESVADYFKQIGIIKTNKKTGQPMINLYTDRETGKLKGEATVSFDDPPSAKAAIDWFDGKEFSGNPIKVSFATRRADFNRGGGNGRGGRGRGGPMGRGGYGGGGSGGGGRGGFPSGGGGGGGQQRAGDWKCPNPTCENMNFSWRNECNQCKAPKPDGPGGGPGGSHMGGNYGDDRRGGRGGYDRGGYRGRGGDRGGFRGGRGGGDRGGFGPGKMDSRGEHRQDRRERPY'"
   ]
  },
  {
   "cell_type": "code",
   "execution_count": null,
   "id": "enhanced-peninsula",
   "metadata": {},
   "outputs": [],
   "source": []
  },
  {
   "cell_type": "code",
   "execution_count": 2,
   "id": "opposed-emergency",
   "metadata": {},
   "outputs": [
    {
     "name": "stderr",
     "output_type": "stream",
     "text": [
      "/opt/miniconda3/envs/bedtools1/lib/python3.8/site-packages/gensim/similarities/__init__.py:15: UserWarning: The gensim.similarities.levenshtein submodule is disabled, because the optional Levenshtein package <https://pypi.org/project/python-Levenshtein/> is unavailable. Install Levenhstein (e.g. `pip install python-Levenshtein`) to suppress this warning.\n",
      "  warnings.warn(msg)\n"
     ]
    }
   ],
   "source": [
    "#DO NOT CHANGE ANYTHING IN THIS CELL. MOVE ON TO THE FOLLOWING ONE TO GET THE PREDICTION.\n",
    "\n",
    "\n",
    "import numpy as np\n",
    "from gensim.models import word2vec\n",
    "\n",
    "class ProtVec(word2vec.Word2Vec):\n",
    "\n",
    "    def __init__(self, fasta_fname=None, corpus=None, n=3, size=100, corpus_fname=\"corpus.txt\",  sg=1, window=25, min_count=1, workers=20):\n",
    "        \"\"\"\n",
    "        Either fname or corpus is required.\n",
    "        fasta_fname: fasta file for corpus\n",
    "        corpus: corpus object implemented by gensim\n",
    "        n: n of n-gram\n",
    "        corpus_fname: corpus file path\n",
    "        min_count: least appearance count in corpus. if the n-gram appear k times which is below min_count, the model does not remember the n-gram\n",
    "        \"\"\"\n",
    "\n",
    "        self.n = n\n",
    "        self.size = size\n",
    "        self.fasta_fname = fasta_fname\n",
    "\n",
    "        if corpus is None and fasta_fname is None:\n",
    "            raise Exception(\"Either fasta_fname or corpus is needed!\")\n",
    "\n",
    "        if fasta_fname is not None:\n",
    "            print('Generate Corpus file from fasta file...')\n",
    "            generate_corpusfile(fasta_fname, n, corpus_fname)\n",
    "            corpus = word2vec.Text8Corpus(corpus_fname)\n",
    "\n",
    "        word2vec.Word2Vec.__init__(self, corpus, size=size, sg=sg, window=window, min_count=min_count, workers=workers)\n",
    "\n",
    "    def to_vecs(self, seq):\n",
    "        \"\"\"\n",
    "        convert sequence to three n-length vectors\n",
    "        e.g. 'AGAMQSASM' => [ array([  ... * 100 ], array([  ... * 100 ], array([  ... * 100 ] ]\n",
    "        \"\"\"\n",
    "        ngram_patterns = split_ngrams(seq, self.n)\n",
    "\n",
    "        protvecs = []\n",
    "        for ngrams in ngram_patterns:\n",
    "            ngram_vecs = []\n",
    "            for ngram in ngrams:\n",
    "                try:\n",
    "                    ngram_vecs.append(self.wv[ngram])\n",
    "                except:\n",
    "                    raise Exception(\"Model has never trained this n-gram: \" + ngram)\n",
    "            protvecs.append(sum(ngram_vecs))\n",
    "        return protvecs\n",
    "    \n",
    "    \n",
    "    def get_vector(self, seq):\n",
    "        \"\"\"\n",
    "        sum and normalize the three n-length vectors returned by self.to_vecs\n",
    "        \"\"\"\n",
    "        #return normalize(sum(self.to_vecs(seq)))\n",
    "        return sum(self.to_vecs(seq))\n",
    "\n",
    "    \n",
    "def load_protvec(model_fname):\n",
    "    return word2vec.Word2Vec.load(model_fname)\n",
    "\n",
    "pv = load_protvec('tools/Embeddings/swissprot_size200_window25.model')\n",
    "\n",
    "SEED = 42\n",
    "np.random.seed(SEED)\n",
    "\n",
    "\n",
    "from deephase_utils import *\n",
    "\n"
   ]
  },
  {
   "cell_type": "code",
   "execution_count": null,
   "id": "legendary-welding",
   "metadata": {},
   "outputs": [],
   "source": []
  },
  {
   "cell_type": "code",
   "execution_count": null,
   "id": "digital-exploration",
   "metadata": {},
   "outputs": [],
   "source": []
  },
  {
   "cell_type": "code",
   "execution_count": null,
   "id": "herbal-traffic",
   "metadata": {},
   "outputs": [],
   "source": []
  },
  {
   "cell_type": "code",
   "execution_count": 5,
   "id": "smaller-husband",
   "metadata": {},
   "outputs": [
    {
     "name": "stderr",
     "output_type": "stream",
     "text": [
      "/opt/miniconda3/envs/bedtools1/lib/python3.8/site-packages/sklearn/base.py:310: UserWarning: Trying to unpickle estimator DecisionTreeClassifier from version 0.23.1 when using version 0.24.1. This might lead to breaking code or invalid results. Use at your own risk.\n",
      "  warnings.warn(\n",
      "/opt/miniconda3/envs/bedtools1/lib/python3.8/site-packages/sklearn/base.py:310: UserWarning: Trying to unpickle estimator RandomForestClassifier from version 0.23.1 when using version 0.24.1. This might lead to breaking code or invalid results. Use at your own risk.\n",
      "  warnings.warn(\n",
      "/opt/miniconda3/envs/bedtools1/lib/python3.8/site-packages/sklearn/base.py:310: UserWarning: Trying to unpickle estimator DecisionTreeClassifier from version 0.23.1 when using version 0.24.1. This might lead to breaking code or invalid results. Use at your own risk.\n",
      "  warnings.warn(\n",
      "/opt/miniconda3/envs/bedtools1/lib/python3.8/site-packages/sklearn/base.py:310: UserWarning: Trying to unpickle estimator RandomForestClassifier from version 0.23.1 when using version 0.24.1. This might lead to breaking code or invalid results. Use at your own risk.\n",
      "  warnings.warn(\n"
     ]
    },
    {
     "data": {
      "text/plain": [
       "'DeePhase score: 0.967'"
      ]
     },
     "execution_count": 5,
     "metadata": {},
     "output_type": "execute_result"
    }
   ],
   "source": [
    "#PREDICTION:\n",
    "\n",
    "df = pd.DataFrame({'sequence_final': [test_seq1_FUS]})\n",
    "DeePhase(df)"
   ]
  },
  {
   "cell_type": "code",
   "execution_count": null,
   "id": "sought-template",
   "metadata": {},
   "outputs": [],
   "source": []
  },
  {
   "cell_type": "code",
   "execution_count": null,
   "id": "polished-leader",
   "metadata": {},
   "outputs": [],
   "source": []
  },
  {
   "cell_type": "code",
   "execution_count": null,
   "id": "mature-exhaust",
   "metadata": {},
   "outputs": [],
   "source": []
  },
  {
   "cell_type": "code",
   "execution_count": null,
   "id": "pleasant-bhutan",
   "metadata": {},
   "outputs": [],
   "source": []
  },
  {
   "cell_type": "code",
   "execution_count": null,
   "id": "civilian-opera",
   "metadata": {},
   "outputs": [],
   "source": []
  },
  {
   "cell_type": "code",
   "execution_count": null,
   "id": "early-flour",
   "metadata": {},
   "outputs": [],
   "source": []
  },
  {
   "cell_type": "code",
   "execution_count": null,
   "id": "modern-neighborhood",
   "metadata": {},
   "outputs": [],
   "source": []
  },
  {
   "cell_type": "code",
   "execution_count": null,
   "id": "spectacular-casting",
   "metadata": {},
   "outputs": [],
   "source": []
  }
 ],
 "metadata": {
  "kernelspec": {
   "display_name": "Python 3",
   "language": "python",
   "name": "python3"
  },
  "language_info": {
   "codemirror_mode": {
    "name": "ipython",
    "version": 3
   },
   "file_extension": ".py",
   "mimetype": "text/x-python",
   "name": "python",
   "nbconvert_exporter": "python",
   "pygments_lexer": "ipython3",
   "version": "3.8.8"
  }
 },
 "nbformat": 4,
 "nbformat_minor": 5
}
